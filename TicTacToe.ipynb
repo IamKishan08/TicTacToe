{
 "cells": [
  {
   "cell_type": "markdown",
   "id": "bf0fe9bb-b9d3-4795-9262-a4e762c37773",
   "metadata": {},
   "source": [
    "# Python project"
   ]
  },
  {
   "cell_type": "markdown",
   "id": "6fc7520e-aff8-4c1b-97e8-d8bfb556a386",
   "metadata": {},
   "source": [
    "## Tic Tac Toe"
   ]
  },
  {
   "cell_type": "raw",
   "id": "ff357980-5ff6-4956-83c3-252e1633f497",
   "metadata": {},
   "source": [
    "STEP 1: Initializtioon of TicTacToe"
   ]
  },
  {
   "cell_type": "code",
   "execution_count": 19,
   "id": "cd303e43-d9a5-4c23-a685-b587792c5d8d",
   "metadata": {},
   "outputs": [],
   "source": [
    "def __init__(self):\n",
    "    self.current_player = \"X\"\n",
    "    self.board = [[\"\" for _ in range(3)] for _ in range(3)]\n",
    "    self.window = tk.TK()\n",
    "    self.window.title(\"Tic Tac Toe\")\n",
    "    self.buttons = []\n",
    "    for i in range(3):\n",
    "        row = []\n",
    "        for j in range(3):\n",
    "            button = tk.Button(self.Window,text=\"\",width=20,height=10,command=lambda i=i,j=j:self.make_move(i, j))\n",
    "            button.grid(row=i, column=j)\n",
    "            row.append(button)\n",
    "        self.buttons.append(row)\n",
    "    "
   ]
  },
  {
   "cell_type": "raw",
   "id": "b880e73b-2e72-4f29-a532-1814332b22ce",
   "metadata": {},
   "source": [
    "STEP 2: HANDLING PALYER MOVES "
   ]
  },
  {
   "cell_type": "code",
   "execution_count": 20,
   "id": "7934f5ff-a81b-4069-9a45-8fdbde2b87c9",
   "metadata": {},
   "outputs": [],
   "source": [
    "def make_moves(self, row, col):\n",
    "    if self.board[row][col] == \"\":\n",
    "        self.board[row][col] = self.current_player\n",
    "        self.buttons[row][col].config(text=self.current_player)\n",
    "        if self.check_winner(self.current_player):\n",
    "            message.showinfo(\"Game Over\", f\"Player {self.current_player} wins!\")\n",
    "            self.window.quit()\n",
    "        elif self.is_board_full():\n",
    "            message.showinfo(\"Game over\", \"It is Draw\")\n",
    "        else:\n",
    "            self.current_player= \"O\" if self.current_player == \"X\" else \"X\"\n",
    "        \n",
    "    "
   ]
  },
  {
   "cell_type": "raw",
   "id": "1f2cdc37-27b2-4745-8c44-18d03b8d8bc7",
   "metadata": {},
   "source": [
    "STEP 3: CHECKING FOR VICTOURIOUS PLAYER"
   ]
  },
  {
   "cell_type": "code",
   "execution_count": 21,
   "id": "fbdd3f75-b2ef-4295-ade7-f3a39a673207",
   "metadata": {},
   "outputs": [],
   "source": [
    "def check_winner(self, player):\n",
    "    for i in range(3):\n",
    "        if self.board[0][i] == self.board[1][i] == self.board[2][i]:\n",
    "            return True\n",
    "        if self.board[i][0] == self.board[i][1] == self.board[i][2]:\n",
    "            return True\n",
    "    if self.board[0][0] == self.board[1][1] == self.board[2][2]:\n",
    "        return True\n",
    "    if self.board[2][0] == self.board[1][1] == self.board[0][2]:\n",
    "        return True\n",
    "    return False\n",
    "    "
   ]
  },
  {
   "cell_type": "markdown",
   "id": "3af15071",
   "metadata": {},
   "source": [
    "### import tkinter"
   ]
  },
  {
   "cell_type": "code",
   "execution_count": 22,
   "id": "5721789d-e7f0-4019-8004-4c8a40e5b5cd",
   "metadata": {},
   "outputs": [],
   "source": [
    "import tkinter as tk"
   ]
  },
  {
   "cell_type": "code",
   "execution_count": 24,
   "id": "9ecf95db-cdd4-46be-beed-340b5cb3dd98",
   "metadata": {},
   "outputs": [],
   "source": [
    "from tkinter import messagebox"
   ]
  },
  {
   "cell_type": "code",
   "execution_count": null,
   "id": "1bc2f525-3e88-4418-94ee-18bb7ee3b287",
   "metadata": {},
   "outputs": [],
   "source": [
    "import tkinter as tk\n",
    "from tkinter import messagebox\n",
    "\n",
    "class TicTacToe:\n",
    "    def __init__(self):\n",
    "        self.current_player = \"X\"\n",
    "        self.board = [[\"\" for _ in range(3)] for _ in range(3)]\n",
    "        self.window = tk.Tk()\n",
    "        self.window.title(\"Tic Tac Toe\")\n",
    "        \n",
    "        self.buttons = []\n",
    "        for i in range(3):\n",
    "            row = []\n",
    "            for j in range(3):\n",
    "                button = tk.Button(self.window, text=\"\", width=20, height=10, command=lambda i=i, j=j: self.make_move(i, j))\n",
    "                button.grid(row=i, column=j)\n",
    "                row.append(button)\n",
    "            self.buttons.append(row)\n",
    "        \n",
    "    def make_move(self, row, col):\n",
    "        if self.board[row][col] == \"\":\n",
    "            self.board[row][col] = self.current_player\n",
    "            self.buttons[row][col].config(text=self.current_player)\n",
    "            if self.check_winner(self.current_player):\n",
    "                messagebox.showinfo(\"Game Over\", f\"Player {self.current_player} wins!\")\n",
    "                self.window.quit()\n",
    "            elif self.is_board_full():\n",
    "                messagebox.showinfo(\"Game Over\", \"It's a draw!\")\n",
    "                self.window.quit()\n",
    "            else:\n",
    "                self.current_player = \"O\" if self.current_player == \"X\" else \"X\"\n",
    "    \n",
    "    def check_winner(self, player):\n",
    "        for i in range(3):\n",
    "            if self.board[i][0] == self.board[i][1] == self.board[i][2] == player:\n",
    "                return True\n",
    "            if self.board[0][i] == self.board[1][i] == self.board[2][i] == player:\n",
    "                return True\n",
    "        if self.board[0][0] == self.board[1][1] == self.board[2][2] == player:\n",
    "            return True\n",
    "        if self.board[0][2] == self.board[1][1] == self.board[2][0] == player:\n",
    "            return True\n",
    "        return False\n",
    "    \n",
    "    def is_board_full(self):\n",
    "        for row in self.board:\n",
    "            if \"\" in row:\n",
    "                return False\n",
    "        return True\n",
    "    \n",
    "    def run(self):\n",
    "        self.window.mainloop()\n",
    "\n",
    "game = TicTacToe()\n",
    "game.run()"
   ]
  },
  {
   "cell_type": "code",
   "execution_count": null,
   "id": "c8435b6d-bb1b-4e40-b190-51001ea6ff26",
   "metadata": {},
   "outputs": [],
   "source": []
  },
  {
   "cell_type": "code",
   "execution_count": null,
   "id": "2296871d-e746-403a-90de-0a41f3076cd0",
   "metadata": {},
   "outputs": [],
   "source": []
  },
  {
   "cell_type": "code",
   "execution_count": null,
   "id": "39f0fccc-d8f5-4df5-b67b-7cb4b0244330",
   "metadata": {},
   "outputs": [],
   "source": []
  },
  {
   "cell_type": "code",
   "execution_count": null,
   "id": "37ec1fb6-0549-45ff-bdef-527e665c8972",
   "metadata": {},
   "outputs": [],
   "source": []
  },
  {
   "cell_type": "code",
   "execution_count": null,
   "id": "77b55850-1793-4ba1-8633-6e5a615c3be8",
   "metadata": {},
   "outputs": [],
   "source": []
  },
  {
   "cell_type": "code",
   "execution_count": null,
   "id": "b5c513a6-e66a-492b-84db-74ad14961a43",
   "metadata": {},
   "outputs": [],
   "source": []
  },
  {
   "cell_type": "code",
   "execution_count": null,
   "id": "d88c6c31-9875-4b15-9e19-a181f2f341ce",
   "metadata": {},
   "outputs": [],
   "source": []
  },
  {
   "cell_type": "code",
   "execution_count": null,
   "id": "7d5d5b32-c19c-4080-9e89-10d4e7ebda09",
   "metadata": {},
   "outputs": [],
   "source": []
  },
  {
   "cell_type": "code",
   "execution_count": null,
   "id": "a99a7267-dff1-483a-8b2e-e885e040488d",
   "metadata": {},
   "outputs": [],
   "source": []
  },
  {
   "cell_type": "code",
   "execution_count": null,
   "id": "e3edc84d-2613-408b-a7f5-89bebeb2c7ad",
   "metadata": {},
   "outputs": [],
   "source": []
  },
  {
   "cell_type": "code",
   "execution_count": null,
   "id": "b6ae85c0-4e57-4acb-8595-3503fc9d29c1",
   "metadata": {},
   "outputs": [],
   "source": []
  },
  {
   "cell_type": "code",
   "execution_count": null,
   "id": "7e26c235-cce0-430c-8453-1cf78be8ce3a",
   "metadata": {},
   "outputs": [],
   "source": []
  },
  {
   "cell_type": "code",
   "execution_count": null,
   "id": "e385c15e-4daf-4319-ac9a-82ed6c689ca8",
   "metadata": {},
   "outputs": [],
   "source": []
  },
  {
   "cell_type": "code",
   "execution_count": null,
   "id": "0089b313-9227-410a-ace3-256638e2ba6e",
   "metadata": {},
   "outputs": [],
   "source": []
  },
  {
   "cell_type": "code",
   "execution_count": null,
   "id": "b1519742-2573-4920-adc7-6b2300bb62fc",
   "metadata": {},
   "outputs": [],
   "source": []
  },
  {
   "cell_type": "code",
   "execution_count": null,
   "id": "279badb8-9657-414e-88a7-8f6ff7335b7c",
   "metadata": {},
   "outputs": [],
   "source": []
  },
  {
   "cell_type": "code",
   "execution_count": null,
   "id": "ba0ceaa1-c93b-4403-9020-9f7dbcb7f602",
   "metadata": {},
   "outputs": [],
   "source": []
  },
  {
   "cell_type": "code",
   "execution_count": null,
   "id": "d558c3a2-de29-428e-8704-f02670ce6ff2",
   "metadata": {},
   "outputs": [],
   "source": []
  },
  {
   "cell_type": "code",
   "execution_count": null,
   "id": "d1b1ba34-71c3-4f9b-a499-47799cccc0d8",
   "metadata": {},
   "outputs": [],
   "source": []
  },
  {
   "cell_type": "code",
   "execution_count": null,
   "id": "12291b72-0b78-4280-839a-6450357bff44",
   "metadata": {},
   "outputs": [],
   "source": []
  }
 ],
 "metadata": {
  "kernelspec": {
   "display_name": "Python 3 (ipykernel)",
   "language": "python",
   "name": "python3"
  },
  "language_info": {
   "codemirror_mode": {
    "name": "ipython",
    "version": 3
   },
   "file_extension": ".py",
   "mimetype": "text/x-python",
   "name": "python",
   "nbconvert_exporter": "python",
   "pygments_lexer": "ipython3",
   "version": "3.12.0"
  }
 },
 "nbformat": 4,
 "nbformat_minor": 5
}
